{
 "cells": [
  {
   "cell_type": "code",
   "execution_count": 1,
   "metadata": {},
   "outputs": [],
   "source": [
    "import pandas as pd"
   ]
  },
  {
   "cell_type": "code",
   "execution_count": 2,
   "metadata": {},
   "outputs": [],
   "source": [
    "# Specify the path to the Excel file\n",
    "file_path = 'fulldata/scraped/elections_india_data.xlsx'\n",
    "\n",
    "# Read the entire Excel file\n",
    "excel_data = pd.ExcelFile(file_path)"
   ]
  },
  {
   "cell_type": "code",
   "execution_count": 3,
   "metadata": {},
   "outputs": [],
   "source": [
    "# Initialize empty DataFrames for consolidated data\n",
    "consolidated_sheet1 = pd.DataFrame()\n",
    "consolidated_sheet2 = pd.DataFrame()\n",
    "consolidated_sheet3 = pd.DataFrame()"
   ]
  },
  {
   "cell_type": "code",
   "execution_count": 4,
   "metadata": {},
   "outputs": [],
   "source": [
    "# List of years to process\n",
    "years = [1971, 1977, 1980, 1984, 1989, 1991, 1996, 2001, 2006, 2011, 2016]"
   ]
  },
  {
   "cell_type": "code",
   "execution_count": 5,
   "metadata": {},
   "outputs": [],
   "source": [
    "for year in years:\n",
    "    # Process sheet1\n",
    "    sheet1_name = f'Year_{year}_India_1'\n",
    "    if sheet1_name in excel_data.sheet_names:\n",
    "        sheet1_data = excel_data.parse(sheet1_name)\n",
    "        sheet1_data.rename(columns={'Paty Name': 'Party Name'}, inplace=True)\n",
    "        sheet1_data['Election Year'] = str(year)\n",
    "        # Convert all data to string\n",
    "        sheet1_data = sheet1_data.astype(str)\n",
    "        # Remove byepoll data if column exists\n",
    "        if 'Election Type' in sheet1_data.columns:\n",
    "            sheet1_data = sheet1_data[~sheet1_data['Election Type'].str.contains('byepoll', case=False, na=False)]\n",
    "        consolidated_sheet1 = pd.concat([consolidated_sheet1, sheet1_data], ignore_index=True)\n",
    "    \n",
    "    # Process sheet2\n",
    "    sheet2_name = f'Year_{year}_India_2'\n",
    "    if sheet2_name in excel_data.sheet_names:\n",
    "        sheet2_data = excel_data.parse(sheet2_name)\n",
    "        if 'A. C. NO.' in sheet2_data.columns:\n",
    "            sheet2_data = sheet2_data[sheet2_data['A. C. NO.'].astype(str).str.isnumeric()]\n",
    "            sheet2_data['Election Year'] = str(year)\n",
    "            sheet2_data['Election Unique ID'] = f\"{year}_\" + sheet2_data[\"A. C. NO.\"].astype(str).str.zfill(3)\n",
    "            # Convert all data to string\n",
    "            sheet2_data = sheet2_data.astype(str)\n",
    "            # Remove byepoll data if column exists\n",
    "            if 'Election Type' in sheet2_data.columns:\n",
    "                sheet2_data = sheet2_data[~sheet2_data['Election Type'].str.contains('byepoll', case=False, na=False)]\n",
    "            consolidated_sheet2 = pd.concat([consolidated_sheet2, sheet2_data], ignore_index=True)\n",
    "        else:\n",
    "            print(f\"Column 'A. C. NO.' not found in {sheet2_name}. Skipping...\")\n",
    "    \n",
    "    # Process sheet3\n",
    "    sheet3_name = f'Year_{year}_India_3'\n",
    "    if sheet3_name in excel_data.sheet_names:\n",
    "        sheet3_data = excel_data.parse(sheet3_name)\n",
    "        sheet3_data['Party Category'] = None\n",
    "        current_category = None\n",
    "        for index, row in sheet3_data.iterrows():\n",
    "            if row['Party Type Abbreviation'] == 'National Parties':\n",
    "                current_category = 'National Party'\n",
    "            elif row['Party Type Abbreviation'] == 'State Parties':\n",
    "                current_category = 'State Party'\n",
    "            elif row['Party Type Abbreviation'] == 'Registered(Unrecognised ) Parties':\n",
    "                current_category = 'Unrecognized Party'\n",
    "            elif pd.notna(current_category):\n",
    "                sheet3_data.at[index, 'Party Category'] = current_category\n",
    "        \n",
    "        sheet3_data = sheet3_data[sheet3_data['S. No.'].astype(str).str.isnumeric()]\n",
    "        sheet3_data['Election Year'] = str(year)\n",
    "        sheet3_data.rename(columns={\n",
    "            'S. No.': 'Serial No',\n",
    "            'Party Type Abbreviation': 'Party Abbreviation',\n",
    "            'Party': 'Party Name',\n",
    "            'Party Category': 'Party Type'\n",
    "        }, inplace=True)\n",
    "        # Convert all data to string\n",
    "        sheet3_data = sheet3_data.astype(str)\n",
    "        # Remove byepoll data if column exists\n",
    "        if 'Election Type' in sheet3_data.columns:\n",
    "            sheet3_data = sheet3_data[~sheet3_data['Election Type'].str.contains('byepoll', case=False, na=False)]\n",
    "        consolidated_sheet3 = pd.concat([consolidated_sheet3, sheet3_data], ignore_index=True)\n"
   ]
  },
  {
   "cell_type": "code",
   "execution_count": 6,
   "metadata": {},
   "outputs": [],
   "source": [
    "# Sort all consolidated data by year\n",
    "consolidated_sheet1 = consolidated_sheet1.sort_values('Election Year')\n",
    "consolidated_sheet2 = consolidated_sheet2.sort_values('Election Unique ID')\n",
    "consolidated_sheet3 = consolidated_sheet3.sort_values('Election Year')"
   ]
  },
  {
   "cell_type": "code",
   "execution_count": 7,
   "metadata": {},
   "outputs": [
    {
     "name": "stdout",
     "output_type": "stream",
     "text": [
      "Data has been successfully saved to fulldata/cleaned/Cleaned_Elections_Data.xlsx\n"
     ]
    }
   ],
   "source": [
    "# Save the consolidated data to an Excel file\n",
    "output_path = 'fulldata/cleaned/Cleaned_Elections_Data.xlsx'\n",
    "with pd.ExcelWriter(output_path, engine='xlsxwriter') as writer:\n",
    "    consolidated_sheet1.to_excel(writer, sheet_name=\"Consolidated Results\", index=False)\n",
    "    consolidated_sheet2.to_excel(writer, sheet_name=\"Election Results\", index=False)\n",
    "    consolidated_sheet3.to_excel(writer, sheet_name=\"All Party Categories\", index=False)\n",
    "\n",
    "print(f\"Data has been successfully saved to {output_path}\")\n"
   ]
  }
 ],
 "metadata": {
  "kernelspec": {
   "display_name": "pyenv",
   "language": "python",
   "name": "python3"
  },
  "language_info": {
   "codemirror_mode": {
    "name": "ipython",
    "version": 3
   },
   "file_extension": ".py",
   "mimetype": "text/x-python",
   "name": "python",
   "nbconvert_exporter": "python",
   "pygments_lexer": "ipython3",
   "version": "3.13.2"
  }
 },
 "nbformat": 4,
 "nbformat_minor": 2
}
